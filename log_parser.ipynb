{
 "cells": [
  {
   "attachments": {},
   "cell_type": "markdown",
   "metadata": {},
   "source": [
    "# Jupyter Notebook in Vscode"
   ]
  },
  {
   "attachments": {},
   "cell_type": "markdown",
   "metadata": {},
   "source": [
    "## Start Server"
   ]
  },
  {
   "cell_type": "code",
   "execution_count": 3,
   "metadata": {},
   "outputs": [],
   "source": [
    "from deephaven_server import Server\n",
    "\n",
    "if Server.instance is None:\n",
    "    s = Server(\n",
    "        port=8080, \n",
    "        jvm_args=['-Ddeephaven.dataDir=./data']\n",
    "        )\n",
    "    s.start()"
   ]
  },
  {
   "attachments": {},
   "cell_type": "markdown",
   "metadata": {},
   "source": [
    "## Log Table"
   ]
  },
  {
   "cell_type": "code",
   "execution_count": 4,
   "metadata": {},
   "outputs": [
    {
     "data": {
      "application/vnd.jupyter.widget-view+json": {
       "model_id": "1f3026809da841d898aff7219e222eaf",
       "version_major": 2,
       "version_minor": 0
      },
      "text/plain": [
       "DeephavenWidget(height=600, iframe_url='http://localhost:8080/iframe/table/?name=t_2db0b774_c215_4131_932f_f86…"
      ]
     },
     "metadata": {},
     "output_type": "display_data"
    }
   ],
   "source": [
    "import re\n",
    "from deephaven import dtypes as dht, new_table\n",
    "from deephaven.column import datetime_col, string_col\n",
    "from deephaven.time import to_datetime\n",
    "from deephaven_ipywidgets import DeephavenWidget\n",
    "\n",
    "log_file_path = 'data/logs/2023-03-21-180652_support_logs/console.txt'\n",
    "\n",
    "columns = {\n",
    "    'key': [],\n",
    "    'ts': [],\n",
    "    'type': [],\n",
    "    'msg': [],\n",
    "    'body': [],\n",
    "}\n",
    "\n",
    "def get_key(type, msg):\n",
    "    msg = re.sub(r\"[A-Za-z0-9]{8}-([A-Za-z0-9]{4}-){3}[A-Za-z0-9]{12}\", '<GUID>', msg)\n",
    "    msg = re.sub(r'(.*\"grpc-status-details-bin\":\\[\")([^\"]+)(\"\\].*)', r'\\1<TOKEN>\\3', msg)\n",
    "    msg = re.sub(r'(\"date\":\\[\")([^\"]+)(\"\\])', r'\\1<DATE>\\3', msg)\n",
    "    return type + '\\t' + msg\n",
    "\n",
    "with open(log_file_path, 'r', encoding=\"utf-8\") as fh:\n",
    "    for line in fh:\n",
    "        match = re.search(r'^(\\d{4}-\\d{2}-\\d{2}T\\d{2}:\\d{2}:\\d{2}.\\d{3}Z) ([A-Z])\\t(.*)', line)\n",
    "\n",
    "        if match:\n",
    "            ts, type, msg = match.groups()\n",
    "            key = get_key(type, msg)\n",
    "            # print(key)\n",
    "            columns['key'].append(key)\n",
    "            columns['ts'].append(to_datetime(ts))\n",
    "            columns['type'].append(type)\n",
    "            columns['msg'].append(msg)\n",
    "            columns['body'].append('')\n",
    "        else:\n",
    "            columns['body'][-1] += '\\n' + line\n",
    "\n",
    "col_defs = {\n",
    "    'key': dht.string,\n",
    "    'ts': dht.DateTime,\n",
    "    'type': dht.string,\n",
    "    'msg': dht.string,\n",
    "    'body': dht.string\n",
    "}\n",
    "\n",
    "log = new_table([\n",
    "    datetime_col('ts', columns['ts']),\n",
    "    string_col('type', columns['type']),\n",
    "    string_col('msg', columns['msg']),\n",
    "    string_col('body', columns['body']),\n",
    "    string_col('key', columns['key']),\n",
    "])\n",
    "\n",
    "d_log = DeephavenWidget(log)\n",
    "display(d_log)"
   ]
  },
  {
   "attachments": {},
   "cell_type": "markdown",
   "metadata": {},
   "source": [
    "## Counts Table"
   ]
  },
  {
   "cell_type": "code",
   "execution_count": 5,
   "metadata": {},
   "outputs": [
    {
     "data": {
      "application/vnd.jupyter.widget-view+json": {
       "model_id": "989296d31e084a8ab41b59acfc966233",
       "version_major": 2,
       "version_minor": 0
      },
      "text/plain": [
       "DeephavenWidget(height=600, iframe_url='http://localhost:8080/iframe/table/?name=t_53bf2165_890d_4494_842a_766…"
      ]
     },
     "metadata": {},
     "output_type": "display_data"
    }
   ],
   "source": [
    "from deephaven import agg\n",
    "\n",
    "counts = log.agg_by([agg.count_(col='Number')], by=['key']).sort(order_by=['key'])\n",
    "\n",
    "d_counts = DeephavenWidget(counts)\n",
    "display(d_counts)"
   ]
  }
 ],
 "metadata": {
  "kernelspec": {
   "display_name": "venv-vscode",
   "language": "python",
   "name": "python3"
  },
  "language_info": {
   "codemirror_mode": {
    "name": "ipython",
    "version": 3
   },
   "file_extension": ".py",
   "mimetype": "text/x-python",
   "name": "python",
   "nbconvert_exporter": "python",
   "pygments_lexer": "ipython3",
   "version": "3.9.6"
  },
  "orig_nbformat": 4
 },
 "nbformat": 4,
 "nbformat_minor": 2
}
